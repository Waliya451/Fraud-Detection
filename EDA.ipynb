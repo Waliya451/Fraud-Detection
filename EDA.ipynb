{
 "cells": [
  {
   "cell_type": "code",
   "execution_count": 1,
   "metadata": {},
   "outputs": [],
   "source": [
    "import pandas as pd\n",
    "import numpy as np\n",
    "import seaborn as sns"
   ]
  },
  {
   "cell_type": "code",
   "execution_count": 29,
   "metadata": {},
   "outputs": [],
   "source": [
    "dataset = pd.read_csv(\"C:/Users/PMLS/Desktop/fraud detection/twitter_human_bots_dataset.csv\")"
   ]
  },
  {
   "cell_type": "code",
   "execution_count": 3,
   "metadata": {},
   "outputs": [
    {
     "data": {
      "text/html": [
       "<div>\n",
       "<style scoped>\n",
       "    .dataframe tbody tr th:only-of-type {\n",
       "        vertical-align: middle;\n",
       "    }\n",
       "\n",
       "    .dataframe tbody tr th {\n",
       "        vertical-align: top;\n",
       "    }\n",
       "\n",
       "    .dataframe thead th {\n",
       "        text-align: right;\n",
       "    }\n",
       "</style>\n",
       "<table border=\"1\" class=\"dataframe\">\n",
       "  <thead>\n",
       "    <tr style=\"text-align: right;\">\n",
       "      <th></th>\n",
       "      <th>Unnamed: 0</th>\n",
       "      <th>created_at</th>\n",
       "      <th>default_profile</th>\n",
       "      <th>default_profile_image</th>\n",
       "      <th>description</th>\n",
       "      <th>favourites_count</th>\n",
       "      <th>followers_count</th>\n",
       "      <th>friends_count</th>\n",
       "      <th>geo_enabled</th>\n",
       "      <th>id</th>\n",
       "      <th>lang</th>\n",
       "      <th>location</th>\n",
       "      <th>profile_background_image_url</th>\n",
       "      <th>profile_image_url</th>\n",
       "      <th>screen_name</th>\n",
       "      <th>statuses_count</th>\n",
       "      <th>verified</th>\n",
       "      <th>average_tweets_per_day</th>\n",
       "      <th>account_age_days</th>\n",
       "      <th>account_type</th>\n",
       "    </tr>\n",
       "  </thead>\n",
       "  <tbody>\n",
       "    <tr>\n",
       "      <th>0</th>\n",
       "      <td>0</td>\n",
       "      <td>2016-10-15 21:32:11</td>\n",
       "      <td>False</td>\n",
       "      <td>False</td>\n",
       "      <td>Blame @xaiax, Inspired by @MakingInvisible, us...</td>\n",
       "      <td>4</td>\n",
       "      <td>1589</td>\n",
       "      <td>4</td>\n",
       "      <td>False</td>\n",
       "      <td>787405734442958848</td>\n",
       "      <td>en</td>\n",
       "      <td>unknown</td>\n",
       "      <td>http://abs.twimg.com/images/themes/theme1/bg.png</td>\n",
       "      <td>http://pbs.twimg.com/profile_images/7874121826...</td>\n",
       "      <td>best_in_dumbest</td>\n",
       "      <td>11041</td>\n",
       "      <td>False</td>\n",
       "      <td>7.870</td>\n",
       "      <td>1403</td>\n",
       "      <td>bot</td>\n",
       "    </tr>\n",
       "    <tr>\n",
       "      <th>1</th>\n",
       "      <td>1</td>\n",
       "      <td>2016-11-09 05:01:30</td>\n",
       "      <td>False</td>\n",
       "      <td>False</td>\n",
       "      <td>Photographing the American West since 1980. I ...</td>\n",
       "      <td>536</td>\n",
       "      <td>860</td>\n",
       "      <td>880</td>\n",
       "      <td>False</td>\n",
       "      <td>796216118331310080</td>\n",
       "      <td>en</td>\n",
       "      <td>Estados Unidos</td>\n",
       "      <td>http://abs.twimg.com/images/themes/theme1/bg.png</td>\n",
       "      <td>http://pbs.twimg.com/profile_images/8023296328...</td>\n",
       "      <td>CJRubinPhoto</td>\n",
       "      <td>252</td>\n",
       "      <td>False</td>\n",
       "      <td>0.183</td>\n",
       "      <td>1379</td>\n",
       "      <td>human</td>\n",
       "    </tr>\n",
       "    <tr>\n",
       "      <th>2</th>\n",
       "      <td>2</td>\n",
       "      <td>2017-06-17 05:34:27</td>\n",
       "      <td>False</td>\n",
       "      <td>False</td>\n",
       "      <td>Scruffy looking nerf herder and @twitch broadc...</td>\n",
       "      <td>3307</td>\n",
       "      <td>172</td>\n",
       "      <td>594</td>\n",
       "      <td>True</td>\n",
       "      <td>875949740503859204</td>\n",
       "      <td>en</td>\n",
       "      <td>Los Angeles, CA</td>\n",
       "      <td>http://abs.twimg.com/images/themes/theme1/bg.png</td>\n",
       "      <td>http://pbs.twimg.com/profile_images/1278890453...</td>\n",
       "      <td>SVGEGENT</td>\n",
       "      <td>1001</td>\n",
       "      <td>False</td>\n",
       "      <td>0.864</td>\n",
       "      <td>1159</td>\n",
       "      <td>human</td>\n",
       "    </tr>\n",
       "    <tr>\n",
       "      <th>3</th>\n",
       "      <td>3</td>\n",
       "      <td>2016-07-21 13:32:25</td>\n",
       "      <td>True</td>\n",
       "      <td>False</td>\n",
       "      <td>Wife.Godmother.Friend.Feline Fanatic! Assistan...</td>\n",
       "      <td>8433</td>\n",
       "      <td>517</td>\n",
       "      <td>633</td>\n",
       "      <td>True</td>\n",
       "      <td>756119643622735875</td>\n",
       "      <td>en</td>\n",
       "      <td>Birmingham, AL</td>\n",
       "      <td>NaN</td>\n",
       "      <td>http://pbs.twimg.com/profile_images/1284884924...</td>\n",
       "      <td>TinkerVHELPK5</td>\n",
       "      <td>1324</td>\n",
       "      <td>False</td>\n",
       "      <td>0.889</td>\n",
       "      <td>1489</td>\n",
       "      <td>human</td>\n",
       "    </tr>\n",
       "    <tr>\n",
       "      <th>4</th>\n",
       "      <td>4</td>\n",
       "      <td>2012-01-15 16:32:35</td>\n",
       "      <td>False</td>\n",
       "      <td>False</td>\n",
       "      <td>Loan coach at @mancity &amp; Aspiring DJ</td>\n",
       "      <td>88</td>\n",
       "      <td>753678</td>\n",
       "      <td>116</td>\n",
       "      <td>True</td>\n",
       "      <td>464781334</td>\n",
       "      <td>en</td>\n",
       "      <td>England, United Kingdom</td>\n",
       "      <td>http://abs.twimg.com/images/themes/theme1/bg.png</td>\n",
       "      <td>http://pbs.twimg.com/profile_images/9952566258...</td>\n",
       "      <td>JoleonLescott</td>\n",
       "      <td>4202</td>\n",
       "      <td>True</td>\n",
       "      <td>1.339</td>\n",
       "      <td>3138</td>\n",
       "      <td>human</td>\n",
       "    </tr>\n",
       "  </tbody>\n",
       "</table>\n",
       "</div>"
      ],
      "text/plain": [
       "   Unnamed: 0           created_at  default_profile  default_profile_image  \\\n",
       "0           0  2016-10-15 21:32:11            False                  False   \n",
       "1           1  2016-11-09 05:01:30            False                  False   \n",
       "2           2  2017-06-17 05:34:27            False                  False   \n",
       "3           3  2016-07-21 13:32:25             True                  False   \n",
       "4           4  2012-01-15 16:32:35            False                  False   \n",
       "\n",
       "                                         description  favourites_count  \\\n",
       "0  Blame @xaiax, Inspired by @MakingInvisible, us...                 4   \n",
       "1  Photographing the American West since 1980. I ...               536   \n",
       "2  Scruffy looking nerf herder and @twitch broadc...              3307   \n",
       "3  Wife.Godmother.Friend.Feline Fanatic! Assistan...              8433   \n",
       "4               Loan coach at @mancity & Aspiring DJ                88   \n",
       "\n",
       "   followers_count  friends_count  geo_enabled                  id lang  \\\n",
       "0             1589              4        False  787405734442958848   en   \n",
       "1              860            880        False  796216118331310080   en   \n",
       "2              172            594         True  875949740503859204   en   \n",
       "3              517            633         True  756119643622735875   en   \n",
       "4           753678            116         True           464781334   en   \n",
       "\n",
       "                  location                      profile_background_image_url  \\\n",
       "0                  unknown  http://abs.twimg.com/images/themes/theme1/bg.png   \n",
       "1           Estados Unidos  http://abs.twimg.com/images/themes/theme1/bg.png   \n",
       "2          Los Angeles, CA  http://abs.twimg.com/images/themes/theme1/bg.png   \n",
       "3           Birmingham, AL                                               NaN   \n",
       "4  England, United Kingdom  http://abs.twimg.com/images/themes/theme1/bg.png   \n",
       "\n",
       "                                   profile_image_url      screen_name  \\\n",
       "0  http://pbs.twimg.com/profile_images/7874121826...  best_in_dumbest   \n",
       "1  http://pbs.twimg.com/profile_images/8023296328...     CJRubinPhoto   \n",
       "2  http://pbs.twimg.com/profile_images/1278890453...         SVGEGENT   \n",
       "3  http://pbs.twimg.com/profile_images/1284884924...    TinkerVHELPK5   \n",
       "4  http://pbs.twimg.com/profile_images/9952566258...    JoleonLescott   \n",
       "\n",
       "   statuses_count  verified  average_tweets_per_day  account_age_days  \\\n",
       "0           11041     False                   7.870              1403   \n",
       "1             252     False                   0.183              1379   \n",
       "2            1001     False                   0.864              1159   \n",
       "3            1324     False                   0.889              1489   \n",
       "4            4202      True                   1.339              3138   \n",
       "\n",
       "  account_type  \n",
       "0          bot  \n",
       "1        human  \n",
       "2        human  \n",
       "3        human  \n",
       "4        human  "
      ]
     },
     "execution_count": 3,
     "metadata": {},
     "output_type": "execute_result"
    }
   ],
   "source": [
    "dataset.head()"
   ]
  },
  {
   "cell_type": "code",
   "execution_count": 4,
   "metadata": {},
   "outputs": [
    {
     "data": {
      "text/html": [
       "<div>\n",
       "<style scoped>\n",
       "    .dataframe tbody tr th:only-of-type {\n",
       "        vertical-align: middle;\n",
       "    }\n",
       "\n",
       "    .dataframe tbody tr th {\n",
       "        vertical-align: top;\n",
       "    }\n",
       "\n",
       "    .dataframe thead th {\n",
       "        text-align: right;\n",
       "    }\n",
       "</style>\n",
       "<table border=\"1\" class=\"dataframe\">\n",
       "  <thead>\n",
       "    <tr style=\"text-align: right;\">\n",
       "      <th></th>\n",
       "      <th>Unnamed: 0</th>\n",
       "      <th>created_at</th>\n",
       "      <th>default_profile</th>\n",
       "      <th>default_profile_image</th>\n",
       "      <th>description</th>\n",
       "      <th>favourites_count</th>\n",
       "      <th>followers_count</th>\n",
       "      <th>friends_count</th>\n",
       "      <th>geo_enabled</th>\n",
       "      <th>id</th>\n",
       "      <th>lang</th>\n",
       "      <th>location</th>\n",
       "      <th>profile_background_image_url</th>\n",
       "      <th>profile_image_url</th>\n",
       "      <th>screen_name</th>\n",
       "      <th>statuses_count</th>\n",
       "      <th>verified</th>\n",
       "      <th>average_tweets_per_day</th>\n",
       "      <th>account_age_days</th>\n",
       "      <th>account_type</th>\n",
       "    </tr>\n",
       "  </thead>\n",
       "  <tbody>\n",
       "    <tr>\n",
       "      <th>37433</th>\n",
       "      <td>37433</td>\n",
       "      <td>2009-08-08 13:11:15</td>\n",
       "      <td>True</td>\n",
       "      <td>False</td>\n",
       "      <td>Role: Stock Taker. Past Roles: Nanny, Sales As...</td>\n",
       "      <td>651</td>\n",
       "      <td>139</td>\n",
       "      <td>1105</td>\n",
       "      <td>False</td>\n",
       "      <td>63963107</td>\n",
       "      <td>en</td>\n",
       "      <td>Kingston Upon Hull</td>\n",
       "      <td>http://abs.twimg.com/images/themes/theme1/bg.png</td>\n",
       "      <td>http://pbs.twimg.com/profile_images/5844684414...</td>\n",
       "      <td>butchsekab</td>\n",
       "      <td>340</td>\n",
       "      <td>False</td>\n",
       "      <td>0.084</td>\n",
       "      <td>4028</td>\n",
       "      <td>human</td>\n",
       "    </tr>\n",
       "    <tr>\n",
       "      <th>37434</th>\n",
       "      <td>37434</td>\n",
       "      <td>2013-01-05 21:35:37</td>\n",
       "      <td>False</td>\n",
       "      <td>False</td>\n",
       "      <td>KINGDOM LANDLORD #FreeCornBread</td>\n",
       "      <td>8839</td>\n",
       "      <td>1121486</td>\n",
       "      <td>605</td>\n",
       "      <td>True</td>\n",
       "      <td>1064042478</td>\n",
       "      <td>en</td>\n",
       "      <td>unknown</td>\n",
       "      <td>http://abs.twimg.com/images/themes/theme1/bg.png</td>\n",
       "      <td>http://pbs.twimg.com/profile_images/9511349456...</td>\n",
       "      <td>Mathieu_Era</td>\n",
       "      <td>24970</td>\n",
       "      <td>True</td>\n",
       "      <td>8.976</td>\n",
       "      <td>2782</td>\n",
       "      <td>human</td>\n",
       "    </tr>\n",
       "    <tr>\n",
       "      <th>37435</th>\n",
       "      <td>37435</td>\n",
       "      <td>2013-01-14 18:05:54</td>\n",
       "      <td>True</td>\n",
       "      <td>False</td>\n",
       "      <td>Bienvenid@s al Twitter Oficial de Sergio Dalma...</td>\n",
       "      <td>399</td>\n",
       "      <td>85630</td>\n",
       "      <td>190</td>\n",
       "      <td>False</td>\n",
       "      <td>1089732602</td>\n",
       "      <td>it</td>\n",
       "      <td>En constante movimiento</td>\n",
       "      <td>http://abs.twimg.com/images/themes/theme1/bg.png</td>\n",
       "      <td>http://pbs.twimg.com/profile_images/1174733822...</td>\n",
       "      <td>SDalmaoficial</td>\n",
       "      <td>6174</td>\n",
       "      <td>True</td>\n",
       "      <td>2.226</td>\n",
       "      <td>2773</td>\n",
       "      <td>human</td>\n",
       "    </tr>\n",
       "    <tr>\n",
       "      <th>37436</th>\n",
       "      <td>37436</td>\n",
       "      <td>2012-09-10 16:12:02</td>\n",
       "      <td>False</td>\n",
       "      <td>False</td>\n",
       "      <td>Just a good guy wrapped up in a bad system.\\nA...</td>\n",
       "      <td>967</td>\n",
       "      <td>138</td>\n",
       "      <td>166</td>\n",
       "      <td>True</td>\n",
       "      <td>815529979</td>\n",
       "      <td>en</td>\n",
       "      <td>Los Angeles, CA</td>\n",
       "      <td>http://abs.twimg.com/images/themes/theme14/bg.gif</td>\n",
       "      <td>http://pbs.twimg.com/profile_images/1265807908...</td>\n",
       "      <td>VinceYearly</td>\n",
       "      <td>982</td>\n",
       "      <td>False</td>\n",
       "      <td>0.339</td>\n",
       "      <td>2899</td>\n",
       "      <td>human</td>\n",
       "    </tr>\n",
       "    <tr>\n",
       "      <th>37437</th>\n",
       "      <td>37437</td>\n",
       "      <td>2011-12-12 12:59:28</td>\n",
       "      <td>False</td>\n",
       "      <td>False</td>\n",
       "      <td>你好！中国</td>\n",
       "      <td>1092</td>\n",
       "      <td>5</td>\n",
       "      <td>39</td>\n",
       "      <td>False</td>\n",
       "      <td>434896892</td>\n",
       "      <td>zh-cn</td>\n",
       "      <td>中国</td>\n",
       "      <td>http://abs.twimg.com/images/themes/theme19/bg.gif</td>\n",
       "      <td>http://pbs.twimg.com/profile_images/1688940752...</td>\n",
       "      <td>zhemcom</td>\n",
       "      <td>1563</td>\n",
       "      <td>False</td>\n",
       "      <td>0.493</td>\n",
       "      <td>3172</td>\n",
       "      <td>bot</td>\n",
       "    </tr>\n",
       "  </tbody>\n",
       "</table>\n",
       "</div>"
      ],
      "text/plain": [
       "       Unnamed: 0           created_at  default_profile  \\\n",
       "37433       37433  2009-08-08 13:11:15             True   \n",
       "37434       37434  2013-01-05 21:35:37            False   \n",
       "37435       37435  2013-01-14 18:05:54             True   \n",
       "37436       37436  2012-09-10 16:12:02            False   \n",
       "37437       37437  2011-12-12 12:59:28            False   \n",
       "\n",
       "       default_profile_image  \\\n",
       "37433                  False   \n",
       "37434                  False   \n",
       "37435                  False   \n",
       "37436                  False   \n",
       "37437                  False   \n",
       "\n",
       "                                             description  favourites_count  \\\n",
       "37433  Role: Stock Taker. Past Roles: Nanny, Sales As...               651   \n",
       "37434                    KINGDOM LANDLORD #FreeCornBread              8839   \n",
       "37435  Bienvenid@s al Twitter Oficial de Sergio Dalma...               399   \n",
       "37436  Just a good guy wrapped up in a bad system.\\nA...               967   \n",
       "37437                                              你好！中国              1092   \n",
       "\n",
       "       followers_count  friends_count  geo_enabled          id   lang  \\\n",
       "37433              139           1105        False    63963107     en   \n",
       "37434          1121486            605         True  1064042478     en   \n",
       "37435            85630            190        False  1089732602     it   \n",
       "37436              138            166         True   815529979     en   \n",
       "37437                5             39        False   434896892  zh-cn   \n",
       "\n",
       "                      location  \\\n",
       "37433       Kingston Upon Hull   \n",
       "37434                  unknown   \n",
       "37435  En constante movimiento   \n",
       "37436          Los Angeles, CA   \n",
       "37437                       中国   \n",
       "\n",
       "                            profile_background_image_url  \\\n",
       "37433   http://abs.twimg.com/images/themes/theme1/bg.png   \n",
       "37434   http://abs.twimg.com/images/themes/theme1/bg.png   \n",
       "37435   http://abs.twimg.com/images/themes/theme1/bg.png   \n",
       "37436  http://abs.twimg.com/images/themes/theme14/bg.gif   \n",
       "37437  http://abs.twimg.com/images/themes/theme19/bg.gif   \n",
       "\n",
       "                                       profile_image_url    screen_name  \\\n",
       "37433  http://pbs.twimg.com/profile_images/5844684414...     butchsekab   \n",
       "37434  http://pbs.twimg.com/profile_images/9511349456...    Mathieu_Era   \n",
       "37435  http://pbs.twimg.com/profile_images/1174733822...  SDalmaoficial   \n",
       "37436  http://pbs.twimg.com/profile_images/1265807908...    VinceYearly   \n",
       "37437  http://pbs.twimg.com/profile_images/1688940752...        zhemcom   \n",
       "\n",
       "       statuses_count  verified  average_tweets_per_day  account_age_days  \\\n",
       "37433             340     False                   0.084              4028   \n",
       "37434           24970      True                   8.976              2782   \n",
       "37435            6174      True                   2.226              2773   \n",
       "37436             982     False                   0.339              2899   \n",
       "37437            1563     False                   0.493              3172   \n",
       "\n",
       "      account_type  \n",
       "37433        human  \n",
       "37434        human  \n",
       "37435        human  \n",
       "37436        human  \n",
       "37437          bot  "
      ]
     },
     "execution_count": 4,
     "metadata": {},
     "output_type": "execute_result"
    }
   ],
   "source": [
    "dataset.tail()"
   ]
  },
  {
   "cell_type": "code",
   "execution_count": 5,
   "metadata": {},
   "outputs": [
    {
     "name": "stdout",
     "output_type": "stream",
     "text": [
      "<class 'pandas.core.frame.DataFrame'>\n",
      "RangeIndex: 37438 entries, 0 to 37437\n",
      "Data columns (total 20 columns):\n",
      " #   Column                        Non-Null Count  Dtype  \n",
      "---  ------                        --------------  -----  \n",
      " 0   Unnamed: 0                    37438 non-null  int64  \n",
      " 1   created_at                    37438 non-null  object \n",
      " 2   default_profile               37438 non-null  bool   \n",
      " 3   default_profile_image         37438 non-null  bool   \n",
      " 4   description                   30181 non-null  object \n",
      " 5   favourites_count              37438 non-null  int64  \n",
      " 6   followers_count               37438 non-null  int64  \n",
      " 7   friends_count                 37438 non-null  int64  \n",
      " 8   geo_enabled                   37438 non-null  bool   \n",
      " 9   id                            37438 non-null  int64  \n",
      " 10  lang                          29481 non-null  object \n",
      " 11  location                      37434 non-null  object \n",
      " 12  profile_background_image_url  32939 non-null  object \n",
      " 13  profile_image_url             37437 non-null  object \n",
      " 14  screen_name                   37438 non-null  object \n",
      " 15  statuses_count                37438 non-null  int64  \n",
      " 16  verified                      37438 non-null  bool   \n",
      " 17  average_tweets_per_day        37438 non-null  float64\n",
      " 18  account_age_days              37438 non-null  int64  \n",
      " 19  account_type                  37438 non-null  object \n",
      "dtypes: bool(4), float64(1), int64(7), object(8)\n",
      "memory usage: 4.7+ MB\n"
     ]
    }
   ],
   "source": [
    "dataset.info()"
   ]
  },
  {
   "cell_type": "code",
   "execution_count": 6,
   "metadata": {},
   "outputs": [
    {
     "data": {
      "text/html": [
       "<div>\n",
       "<style scoped>\n",
       "    .dataframe tbody tr th:only-of-type {\n",
       "        vertical-align: middle;\n",
       "    }\n",
       "\n",
       "    .dataframe tbody tr th {\n",
       "        vertical-align: top;\n",
       "    }\n",
       "\n",
       "    .dataframe thead th {\n",
       "        text-align: right;\n",
       "    }\n",
       "</style>\n",
       "<table border=\"1\" class=\"dataframe\">\n",
       "  <thead>\n",
       "    <tr style=\"text-align: right;\">\n",
       "      <th></th>\n",
       "      <th>Unnamed: 0</th>\n",
       "      <th>favourites_count</th>\n",
       "      <th>followers_count</th>\n",
       "      <th>friends_count</th>\n",
       "      <th>id</th>\n",
       "      <th>statuses_count</th>\n",
       "      <th>average_tweets_per_day</th>\n",
       "      <th>account_age_days</th>\n",
       "    </tr>\n",
       "  </thead>\n",
       "  <tbody>\n",
       "    <tr>\n",
       "      <th>count</th>\n",
       "      <td>37438.000000</td>\n",
       "      <td>37438.000000</td>\n",
       "      <td>3.743800e+04</td>\n",
       "      <td>3.743800e+04</td>\n",
       "      <td>3.743800e+04</td>\n",
       "      <td>3.743800e+04</td>\n",
       "      <td>37438.000000</td>\n",
       "      <td>37438.000000</td>\n",
       "    </tr>\n",
       "    <tr>\n",
       "      <th>mean</th>\n",
       "      <td>18718.500000</td>\n",
       "      <td>12302.062183</td>\n",
       "      <td>3.703098e+05</td>\n",
       "      <td>4.445925e+03</td>\n",
       "      <td>1.221536e+17</td>\n",
       "      <td>2.107339e+04</td>\n",
       "      <td>6.891668</td>\n",
       "      <td>3022.128052</td>\n",
       "    </tr>\n",
       "    <tr>\n",
       "      <th>std</th>\n",
       "      <td>10807.564026</td>\n",
       "      <td>33923.650237</td>\n",
       "      <td>2.470829e+06</td>\n",
       "      <td>4.954520e+04</td>\n",
       "      <td>3.004313e+17</td>\n",
       "      <td>6.732977e+04</td>\n",
       "      <td>24.580116</td>\n",
       "      <td>1013.695870</td>\n",
       "    </tr>\n",
       "    <tr>\n",
       "      <th>min</th>\n",
       "      <td>0.000000</td>\n",
       "      <td>0.000000</td>\n",
       "      <td>0.000000e+00</td>\n",
       "      <td>0.000000e+00</td>\n",
       "      <td>4.180000e+02</td>\n",
       "      <td>0.000000e+00</td>\n",
       "      <td>0.000000</td>\n",
       "      <td>483.000000</td>\n",
       "    </tr>\n",
       "    <tr>\n",
       "      <th>25%</th>\n",
       "      <td>9359.250000</td>\n",
       "      <td>362.000000</td>\n",
       "      <td>3.500000e+01</td>\n",
       "      <td>3.700000e+01</td>\n",
       "      <td>9.957306e+07</td>\n",
       "      <td>1.336250e+03</td>\n",
       "      <td>0.495000</td>\n",
       "      <td>2316.250000</td>\n",
       "    </tr>\n",
       "    <tr>\n",
       "      <th>50%</th>\n",
       "      <td>18718.500000</td>\n",
       "      <td>2066.000000</td>\n",
       "      <td>3.650000e+02</td>\n",
       "      <td>2.960000e+02</td>\n",
       "      <td>3.991474e+08</td>\n",
       "      <td>4.209000e+03</td>\n",
       "      <td>1.488000</td>\n",
       "      <td>3219.000000</td>\n",
       "    </tr>\n",
       "    <tr>\n",
       "      <th>75%</th>\n",
       "      <td>28077.750000</td>\n",
       "      <td>8879.000000</td>\n",
       "      <td>8.440250e+03</td>\n",
       "      <td>8.930000e+02</td>\n",
       "      <td>2.453826e+09</td>\n",
       "      <td>1.715375e+04</td>\n",
       "      <td>5.528000</td>\n",
       "      <td>3888.000000</td>\n",
       "    </tr>\n",
       "    <tr>\n",
       "      <th>max</th>\n",
       "      <td>37437.000000</td>\n",
       "      <td>885123.000000</td>\n",
       "      <td>1.216415e+08</td>\n",
       "      <td>4.343060e+06</td>\n",
       "      <td>1.120974e+18</td>\n",
       "      <td>2.771910e+06</td>\n",
       "      <td>1269.055000</td>\n",
       "      <td>5158.000000</td>\n",
       "    </tr>\n",
       "  </tbody>\n",
       "</table>\n",
       "</div>"
      ],
      "text/plain": [
       "         Unnamed: 0  favourites_count  followers_count  friends_count  \\\n",
       "count  37438.000000      37438.000000     3.743800e+04   3.743800e+04   \n",
       "mean   18718.500000      12302.062183     3.703098e+05   4.445925e+03   \n",
       "std    10807.564026      33923.650237     2.470829e+06   4.954520e+04   \n",
       "min        0.000000          0.000000     0.000000e+00   0.000000e+00   \n",
       "25%     9359.250000        362.000000     3.500000e+01   3.700000e+01   \n",
       "50%    18718.500000       2066.000000     3.650000e+02   2.960000e+02   \n",
       "75%    28077.750000       8879.000000     8.440250e+03   8.930000e+02   \n",
       "max    37437.000000     885123.000000     1.216415e+08   4.343060e+06   \n",
       "\n",
       "                 id  statuses_count  average_tweets_per_day  account_age_days  \n",
       "count  3.743800e+04    3.743800e+04            37438.000000      37438.000000  \n",
       "mean   1.221536e+17    2.107339e+04                6.891668       3022.128052  \n",
       "std    3.004313e+17    6.732977e+04               24.580116       1013.695870  \n",
       "min    4.180000e+02    0.000000e+00                0.000000        483.000000  \n",
       "25%    9.957306e+07    1.336250e+03                0.495000       2316.250000  \n",
       "50%    3.991474e+08    4.209000e+03                1.488000       3219.000000  \n",
       "75%    2.453826e+09    1.715375e+04                5.528000       3888.000000  \n",
       "max    1.120974e+18    2.771910e+06             1269.055000       5158.000000  "
      ]
     },
     "execution_count": 6,
     "metadata": {},
     "output_type": "execute_result"
    }
   ],
   "source": [
    "dataset.describe()"
   ]
  },
  {
   "cell_type": "code",
   "execution_count": 7,
   "metadata": {},
   "outputs": [
    {
     "data": {
      "text/plain": [
       "(37438, 20)"
      ]
     },
     "execution_count": 7,
     "metadata": {},
     "output_type": "execute_result"
    }
   ],
   "source": [
    "dataset.shape"
   ]
  },
  {
   "cell_type": "code",
   "execution_count": 8,
   "metadata": {},
   "outputs": [
    {
     "data": {
      "text/plain": [
       "Index(['Unnamed: 0', 'created_at', 'default_profile', 'default_profile_image',\n",
       "       'description', 'favourites_count', 'followers_count', 'friends_count',\n",
       "       'geo_enabled', 'id', 'lang', 'location', 'profile_background_image_url',\n",
       "       'profile_image_url', 'screen_name', 'statuses_count', 'verified',\n",
       "       'average_tweets_per_day', 'account_age_days', 'account_type'],\n",
       "      dtype='object')"
      ]
     },
     "execution_count": 8,
     "metadata": {},
     "output_type": "execute_result"
    }
   ],
   "source": [
    "dataset.columns"
   ]
  },
  {
   "cell_type": "code",
   "execution_count": 9,
   "metadata": {},
   "outputs": [
    {
     "name": "stdout",
     "output_type": "stream",
     "text": [
      "Column   Unnamed: 0   uniquevalue are : 37438\n",
      "[    0     1     2 ... 37435 37436 37437]\n",
      "------------------------------------------------------------------\n",
      "Column   created_at   uniquevalue are : 37430\n",
      "['2016-10-15 21:32:11' '2016-11-09 05:01:30' '2017-06-17 05:34:27' ...\n",
      " '2013-01-14 18:05:54' '2012-09-10 16:12:02' '2011-12-12 12:59:28']\n",
      "------------------------------------------------------------------\n",
      "Column   default_profile   uniquevalue are : 2\n",
      "[False  True]\n",
      "------------------------------------------------------------------\n",
      "Column   default_profile_image   uniquevalue are : 2\n",
      "[False  True]\n",
      "------------------------------------------------------------------\n",
      "Column   description   uniquevalue are : 29944\n",
      "['Blame @xaiax, Inspired by @MakingInvisible, using cmu phonetic data to produce incongruous matches.\\nSome images via Lorem Flickr.'\n",
      " 'Photographing the American West since 1980. I specialize in location portraits & events, both indoors & outside, using natural light & portable studio lighting.'\n",
      " 'Scruffy looking nerf herder and @twitch broadcaster\\n\\nContact 📬 svgegent@gmail.com'\n",
      " ...\n",
      " 'Bienvenid@s al Twitter Oficial de Sergio Dalma. https://t.co/3lMe3L9Vd6'\n",
      " 'Just a good guy wrapped up in a bad system.\\nActor / Artist / Gamer / Improviser'\n",
      " '你好！中国']\n",
      "------------------------------------------------------------------\n",
      "Column   favourites_count   uniquevalue are : 15004\n",
      "[    4   536  3307 ... 27514 17421  6365]\n",
      "------------------------------------------------------------------\n",
      "Column   followers_count   uniquevalue are : 13210\n",
      "[   1589     860     172 ...   85561 1121486   85630]\n",
      "------------------------------------------------------------------\n",
      "Column   friends_count   uniquevalue are : 5301\n",
      "[   4  880  594 ... 8478 5853 4203]\n",
      "------------------------------------------------------------------\n",
      "Column   geo_enabled   uniquevalue are : 2\n",
      "[False  True]\n",
      "------------------------------------------------------------------\n",
      "Column   id   uniquevalue are : 37438\n",
      "[787405734442958848 796216118331310080 875949740503859204 ...\n",
      "         1089732602          815529979          434896892]\n",
      "------------------------------------------------------------------\n",
      "Column   lang   uniquevalue are : 48\n",
      "['en' 'ar' nan 'so' 'it' 'es' 'fr' 'id' 'pt' 'ja' 'zh-cn' 'de' 'lt' 'ru'\n",
      " 'tl' 'af' 'cy' 'tr' 'vi' 'ca' 'no' 'hu' 'sw' 'ko' 'fa' 'el' 'sl' 'et'\n",
      " 'pl' 'fi' 'ro' 'nl' 'da' 'sk' 'bg' 'sv' 'mk' 'hr' 'th' 'sq' 'cs' 'ur'\n",
      " 'hi' 'lv' 'he' 'zh-tw' 'ne' 'uk' 'pa']\n",
      "------------------------------------------------------------------\n",
      "Column   location   uniquevalue are : 12049\n",
      "['unknown' 'Estados Unidos' 'Los Angeles, CA' ... 'Andheri West, Mumbai'\n",
      " 'Kingston Upon Hull' 'En constante movimiento']\n",
      "------------------------------------------------------------------\n",
      "Column   profile_background_image_url   uniquevalue are : 20\n",
      "['http://abs.twimg.com/images/themes/theme1/bg.png' nan\n",
      " 'http://abs.twimg.com/images/themes/theme14/bg.gif'\n",
      " 'http://abs.twimg.com/images/themes/theme18/bg.gif'\n",
      " 'http://abs.twimg.com/images/themes/theme2/bg.gif'\n",
      " 'http://abs.twimg.com/images/themes/theme11/bg.gif'\n",
      " 'http://abs.twimg.com/images/themes/theme10/bg.gif'\n",
      " 'http://abs.twimg.com/images/themes/theme9/bg.gif'\n",
      " 'http://abs.twimg.com/images/themes/theme15/bg.png'\n",
      " 'http://abs.twimg.com/images/themes/theme17/bg.gif'\n",
      " 'http://abs.twimg.com/images/themes/theme13/bg.gif'\n",
      " 'http://abs.twimg.com/images/themes/theme16/bg.gif'\n",
      " 'http://abs.twimg.com/images/themes/theme4/bg.gif'\n",
      " 'http://abs.twimg.com/images/themes/theme3/bg.gif'\n",
      " 'http://abs.twimg.com/images/themes/theme6/bg.gif'\n",
      " 'http://abs.twimg.com/images/themes/theme7/bg.gif'\n",
      " 'http://abs.twimg.com/images/themes/theme5/bg.gif'\n",
      " 'http://abs.twimg.com/images/themes/theme12/bg.gif'\n",
      " 'http://abs.twimg.com/images/themes/theme8/bg.gif'\n",
      " 'http://abs.twimg.com/images/themes/theme19/bg.gif'\n",
      " 'http://abs.twimg.com/images/themes/theme20/bg.png']\n",
      "------------------------------------------------------------------\n",
      "Column   profile_image_url   uniquevalue are : 36880\n",
      "['http://pbs.twimg.com/profile_images/787412182602428416/5WawZkPa_normal.jpg'\n",
      " 'http://pbs.twimg.com/profile_images/802329632838037504/CQN6gP7k_normal.jpg'\n",
      " 'http://pbs.twimg.com/profile_images/1278890453291565057/8doB1itg_normal.jpg'\n",
      " ...\n",
      " 'http://pbs.twimg.com/profile_images/1174733822891614210/RvclUrg6_normal.jpg'\n",
      " 'http://pbs.twimg.com/profile_images/1265807908500979714/n8w3fAPE_normal.jpg'\n",
      " 'http://pbs.twimg.com/profile_images/1688940752/012_normal.jpg']\n",
      "------------------------------------------------------------------\n",
      "Column   screen_name   uniquevalue are : 37438\n",
      "['best_in_dumbest' 'CJRubinPhoto' 'SVGEGENT' ... 'SDalmaoficial'\n",
      " 'VinceYearly' 'zhemcom']\n",
      "------------------------------------------------------------------\n",
      "Column   statuses_count   uniquevalue are : 19189\n",
      "[11041   252  1001 ... 16338 21468 24970]\n",
      "------------------------------------------------------------------\n",
      "Column   verified   uniquevalue are : 2\n",
      "[False  True]\n",
      "------------------------------------------------------------------\n",
      "Column   average_tweets_per_day   uniquevalue are : 12636\n",
      "[ 7.87   0.183  0.864 ...  8.274 31.334  5.388]\n",
      "------------------------------------------------------------------\n",
      "Column   account_age_days   uniquevalue are : 4156\n",
      "[1403 1379 1159 ...  752  613  612]\n",
      "------------------------------------------------------------------\n",
      "Column   account_type   uniquevalue are : 2\n",
      "['bot' 'human']\n",
      "------------------------------------------------------------------\n"
     ]
    }
   ],
   "source": [
    "for column in dataset:\n",
    "        print(\"Column\",\" \",column,\"  uniquevalue are :\", dataset[column].nunique())\n",
    "        print(dataset[column].unique())\n",
    "        print(\"------------------------------------------------------------------\")"
   ]
  },
  {
   "cell_type": "code",
   "execution_count": 26,
   "metadata": {},
   "outputs": [
    {
     "data": {
      "text/plain": [
       "default_profile_image              0\n",
       "description                     7257\n",
       "favourites_count                   0\n",
       "followers_count                    0\n",
       "friends_count                      0\n",
       "geo_enabled                        0\n",
       "id                                 0\n",
       "lang                            7957\n",
       "location                           4\n",
       "profile_background_image_url    4499\n",
       "profile_image_url                  1\n",
       "screen_name                        0\n",
       "statuses_count                     0\n",
       "verified                           0\n",
       "average_tweets_per_day             0\n",
       "account_age_days                   0\n",
       "account_type                       0\n",
       "dtype: int64"
      ]
     },
     "execution_count": 26,
     "metadata": {},
     "output_type": "execute_result"
    }
   ],
   "source": [
    "dataset.isnull().sum()"
   ]
  },
  {
   "cell_type": "code",
   "execution_count": 30,
   "metadata": {},
   "outputs": [
    {
     "data": {
      "text/plain": [
       "Index(['created_at', 'default_profile', 'default_profile_image', 'description',\n",
       "       'favourites_count', 'followers_count', 'friends_count', 'geo_enabled',\n",
       "       'id', 'lang', 'location', 'profile_background_image_url',\n",
       "       'profile_image_url', 'screen_name', 'statuses_count', 'verified',\n",
       "       'average_tweets_per_day', 'account_age_days', 'account_type'],\n",
       "      dtype='object')"
      ]
     },
     "execution_count": 30,
     "metadata": {},
     "output_type": "execute_result"
    }
   ],
   "source": [
    "dataset.drop(dataset.columns[0], axis=1, inplace=True)\n",
    "dataset.columns"
   ]
  },
  {
   "cell_type": "code",
   "execution_count": 33,
   "metadata": {},
   "outputs": [
    {
     "data": {
      "text/plain": [
       "Index(['default_profile', 'default_profile_image', 'favourites_count',\n",
       "       'followers_count', 'friends_count', 'geo_enabled', 'id', 'location',\n",
       "       'profile_image_url', 'screen_name', 'statuses_count', 'verified',\n",
       "       'average_tweets_per_day', 'account_age_days', 'account_type'],\n",
       "      dtype='object')"
      ]
     },
     "execution_count": 33,
     "metadata": {},
     "output_type": "execute_result"
    }
   ],
   "source": [
    "dataset.drop('created_at', axis=1, inplace=True)\n",
    "dataset.drop('description', axis=1, inplace=True)\n",
    "dataset.drop('lang',axis=1, inplace=True)\n",
    "dataset.drop('profile_background_image_url',axis=1, inplace=True)\n",
    "dataset.columns"
   ]
  },
  {
   "cell_type": "code",
   "execution_count": 36,
   "metadata": {},
   "outputs": [
    {
     "data": {
      "text/plain": [
       "Index(['default_profile', 'default_profile_image', 'favourites_count',\n",
       "       'followers_count', 'friends_count', 'geo_enabled', 'location',\n",
       "       'profile_image_url', 'statuses_count', 'verified',\n",
       "       'average_tweets_per_day', 'account_age_days', 'account_type'],\n",
       "      dtype='object')"
      ]
     },
     "execution_count": 36,
     "metadata": {},
     "output_type": "execute_result"
    }
   ],
   "source": [
    "dataset.drop('id', axis=1, inplace=True)\n",
    "dataset.drop('screen_name', axis=1, inplace=True)\n",
    "dataset.columns"
   ]
  },
  {
   "cell_type": "code",
   "execution_count": 37,
   "metadata": {},
   "outputs": [
    {
     "data": {
      "text/plain": [
       "default_profile           0\n",
       "default_profile_image     0\n",
       "favourites_count          0\n",
       "followers_count           0\n",
       "friends_count             0\n",
       "geo_enabled               0\n",
       "location                  4\n",
       "profile_image_url         1\n",
       "statuses_count            0\n",
       "verified                  0\n",
       "average_tweets_per_day    0\n",
       "account_age_days          0\n",
       "account_type              0\n",
       "dtype: int64"
      ]
     },
     "execution_count": 37,
     "metadata": {},
     "output_type": "execute_result"
    }
   ],
   "source": [
    "dataset.isnull().sum()"
   ]
  },
  {
   "cell_type": "code",
   "execution_count": 38,
   "metadata": {},
   "outputs": [
    {
     "data": {
      "text/plain": [
       "(37438, 13)"
      ]
     },
     "execution_count": 38,
     "metadata": {},
     "output_type": "execute_result"
    }
   ],
   "source": [
    "dataset.shape"
   ]
  },
  {
   "cell_type": "code",
   "execution_count": null,
   "metadata": {},
   "outputs": [],
   "source": [
    "#Visualizing relationships"
   ]
  },
  {
   "cell_type": "code",
   "execution_count": 12,
   "metadata": {},
   "outputs": [
    {
     "data": {
      "image/png": "[encoded data removed]",
      "text/plain": [
       "<Figure size 1000x600 with 1 Axes>"
      ]
     },
     "metadata": {},
     "output_type": "display_data"
    }
   ],
   "source": [
    "import matplotlib.pyplot as plt\n",
    "plt.figure(figsize=(10, 6))\n",
    "sns.countplot(x=\"default_profile\", data=dataset)\n",
    "plt.show()"
   ]
  },
  {
   "cell_type": "code",
   "execution_count": 13,
   "metadata": {},
   "outputs": [
    {
     "data": {
      "image/png": "[encoded data removed]",
      "text/plain": [
       "<Figure size 1000x600 with 1 Axes>"
      ]
     },
     "metadata": {},
     "output_type": "display_data"
    }
   ],
   "source": [
    "plt.figure(figsize=(10, 6))\n",
    "sns.countplot(x=\"default_profile_image\", data=dataset)\n",
    "plt.show()"
   ]
  },
  {
   "cell_type": "code",
   "execution_count": 14,
   "metadata": {},
   "outputs": [
    {
     "data": {
      "image/png": "[encoded data removed]",
      "text/plain": [
       "<Figure size 1000x600 with 1 Axes>"
      ]
     },
     "metadata": {},
     "output_type": "display_data"
    }
   ],
   "source": [
    "plt.figure(figsize=(10, 6))\n",
    "sns.countplot(x=\"lang\", data=dataset)\n",
    "plt.show()"
   ]
  },
  {
   "cell_type": "code",
   "execution_count": 16,
   "metadata": {},
   "outputs": [
    {
     "data": {
      "image/png": "[encoded data removed]",
      "text/plain": [
       "<Figure size 1000x600 with 1 Axes>"
      ]
     },
     "metadata": {},
     "output_type": "display_data"
    }
   ],
   "source": [
    "plt.figure(figsize=(10, 6))\n",
    "sns.countplot(x=\"verified\", data=dataset)\n",
    "plt.show()"
   ]
  },
  {
   "cell_type": "code",
   "execution_count": 17,
   "metadata": {},
   "outputs": [
    {
     "data": {
      "image/png": "[encoded data removed]",
      "text/plain": [
       "<Figure size 600x400 with 1 Axes>"
      ]
     },
     "metadata": {},
     "output_type": "display_data"
    }
   ],
   "source": [
    "plt.figure(figsize=(6, 4))\n",
    "sns.countplot(x='account_type', data=dataset)\n",
    "plt.title('Distribution of Response Variable (account_type)')\n",
    "plt.xlabel('Account Type')\n",
    "plt.ylabel('Count')\n",
    "plt.show()"
   ]
  }
 ],
 "metadata": {
  "kernelspec": {
   "display_name": "Python 3",
   "language": "python",
   "name": "python3"
  },
  "language_info": {
   "codemirror_mode": {
    "name": "ipython",
    "version": 3
   },
   "file_extension": ".py",
   "mimetype": "text/x-python",
   "name": "python",
   "nbconvert_exporter": "python",
   "pygments_lexer": "ipython3",
   "version": "3.12.1"
  }
 },
 "nbformat": 4,
 "nbformat_minor": 2
}
